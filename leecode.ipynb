{
 "cells": [
  {
   "cell_type": "code",
   "execution_count": 1,
   "metadata": {},
   "outputs": [],
   "source": [
    "import time\n",
    "\n",
    "class Solution(object):\n",
    "    def findMedianSortedArrays(self, nums1, nums2):\n",
    "        if nums1 or nums2:\n",
    "            summ = nums1 + nums2\n",
    "            summ.sort()\n",
    "            order = len(summ) // 2\n",
    "            if (len(summ) % 2) == 0:\n",
    "                return (summ[order-1] + summ[order])/2\n",
    "            elif (len(summ) % 2) == 1:\n",
    "                return summ[order]\n",
    "        \n",
    "Solution = Solution()"
   ]
  },
  {
   "cell_type": "code",
   "execution_count": 2,
   "metadata": {},
   "outputs": [
    {
     "name": "stdout",
     "output_type": "stream",
     "text": [
      "2\n",
      "Time : 0.0002548694610595703\n"
     ]
    }
   ],
   "source": [
    "inputs1 = [1, 3]\n",
    "inputs2 = [2]\n",
    "\n",
    "start = time.time()\n",
    "result = Solution.findMedianSortedArrays(inputs1, inputs2)\n",
    "print(result)\n",
    "\n",
    "print(\"Time :\", time.time() - start)"
   ]
  },
  {
   "cell_type": "code",
   "execution_count": 3,
   "metadata": {},
   "outputs": [
    {
     "name": "stdout",
     "output_type": "stream",
     "text": [
      "2.5\n",
      "Time : 0.00029087066650390625\n"
     ]
    }
   ],
   "source": [
    "inputs3 = [1, 2]\n",
    "inputs4 = [3, 4]\n",
    "\n",
    "start = time.time()\n",
    "result = Solution.findMedianSortedArrays(inputs3, inputs4)\n",
    "print(result)\n",
    "\n",
    "print(\"Time :\", time.time() - start)"
   ]
  },
  {
   "cell_type": "code",
   "execution_count": 4,
   "metadata": {},
   "outputs": [
    {
     "name": "stdout",
     "output_type": "stream",
     "text": [
      "1.5\n",
      "Time : 0.00041294097900390625\n"
     ]
    }
   ],
   "source": [
    "inputs3 = [1, 2]\n",
    "inputs4 = []\n",
    "\n",
    "start = time.time()\n",
    "result = Solution.findMedianSortedArrays(inputs3, inputs4)\n",
    "print(result)\n",
    "\n",
    "print(\"Time :\", time.time() - start)"
   ]
  },
  {
   "cell_type": "code",
   "execution_count": 5,
   "metadata": {},
   "outputs": [
    {
     "name": "stdout",
     "output_type": "stream",
     "text": [
      "5.0\n",
      "Time : 0.00029087066650390625\n"
     ]
    }
   ],
   "source": [
    "inputs5 = [6, 8, 1, 2]\n",
    "inputs6 = [3, 6, 6, 9, 4, 2]\n",
    "\n",
    "start = time.time()\n",
    "result = Solution.findMedianSortedArrays(inputs5, inputs6)\n",
    "print(result)\n",
    "\n",
    "print(\"Time :\", time.time() - start)"
   ]
  },
  {
   "cell_type": "markdown",
   "metadata": {},
   "source": [
    "# 2. Add Two Numbers\n",
    "You are given two non-empty linked lists representing two non-negative integers. The digits are stored in reverse order and each of their nodes contain a single digit. Add the two numbers and return it as a linked list.\n",
    "\n",
    "You may assume the two numbers do not contain any leading zero, except the number 0 itself.\n",
    "\n",
    "Example:\n",
    "```\n",
    "Input: (2 -> 4 -> 3) + (5 -> 6 -> 4)\n",
    "Output: 7 -> 0 -> 8\n",
    "Explanation: 342 + 465 = 807.\n",
    "```\n",
    "\n",
    "Source from: LeetCode "
   ]
  },
  {
   "cell_type": "code",
   "execution_count": 6,
   "metadata": {},
   "outputs": [],
   "source": [
    "class Solution:\n",
    "    def addTwoNumbers(self, l1, l2):\n",
    "        return None\n",
    "        \n",
    "Solution = Solution()"
   ]
  },
  {
   "cell_type": "code",
   "execution_count": 7,
   "metadata": {},
   "outputs": [],
   "source": [
    "# inputs1 = (2 -> 4 -> 3)\n",
    "# inputs2 = (5 -> 6 -> 4)\n",
    "\n",
    "\n",
    "# start = time.time()\n",
    "# result = Solution.addTwoNumbers(inputs1, inputs2)\n",
    "# print(result)"
   ]
  },
  {
   "cell_type": "markdown",
   "metadata": {},
   "source": [
    "# 3. Longest Substring Without Repeating Characters\n",
    "Given a string, find the length of the longest substring without repeating characters.\n",
    "\n",
    "Example 1:\n",
    "```\n",
    "Input: \"abcabcbb\"\n",
    "Output: 3 \n",
    "Explanation: The answer is \"abc\", with the length of 3. \n",
    "```\n",
    "\n",
    "Example 2:\n",
    "```\n",
    "Input: \"bbbbb\"\n",
    "Output: 1\n",
    "Explanation: The answer is \"b\", with the length of 1.\n",
    "```\n",
    "\n",
    "Example 3:\n",
    "```\n",
    "Input: \"pwwkew\"\n",
    "Output: 3\n",
    "Explanation: The answer is \"wke\", with the length of 3. \n",
    "Note that the answer must be a substring, \"pwke\" is a subsequence and not a substring.\n",
    "```\n",
    "\n",
    "Source from: LeetCode "
   ]
  },
  {
   "cell_type": "code",
   "execution_count": 8,
   "metadata": {},
   "outputs": [],
   "source": [
    "class Solution:\n",
    "    def lengthOfLongestSubstring(self, s):\n",
    "        strtolist = list(s)\n",
    "        res1 = []\n",
    "        res2 = []\n",
    "        res1count = 0\n",
    "        res2count = 0\n",
    "        for i in strtolist:\n",
    "            if i not in res1:\n",
    "                res1.append(i)\n",
    "                if len(res1) > len(res2):\n",
    "                        res2 = res1\n",
    "            else:\n",
    "                if len(res1) > len(res2):\n",
    "                    res2 = res1 \n",
    "                    res1 = res1[ res1.index(i) +1 :]\n",
    "                    res1.append(i)\n",
    "                else:\n",
    "                    res1 = res1[ res1.index(i) +1 :]\n",
    "                    res1.append(i)\n",
    "        print(\"res1\",res1)\n",
    "        print(\"res2\",res2)\n",
    "        return len(res2)\n",
    "\n",
    "Solution = Solution()  "
   ]
  },
  {
   "cell_type": "code",
   "execution_count": 9,
   "metadata": {},
   "outputs": [
    {
     "name": "stdout",
     "output_type": "stream",
     "text": [
      "res1 ['b']\n",
      "res2 ['a', 'b', 'c']\n",
      "3\n",
      "Time : 0.0007531642913818359\n"
     ]
    }
   ],
   "source": [
    "inputs1 = \"abcabcbb\"\n",
    "\n",
    "start = time.time()\n",
    "result = Solution.lengthOfLongestSubstring(inputs1)\n",
    "print(result)\n",
    "\n",
    "print(\"Time :\", time.time() - start)"
   ]
  },
  {
   "cell_type": "code",
   "execution_count": 10,
   "metadata": {},
   "outputs": [
    {
     "name": "stdout",
     "output_type": "stream",
     "text": [
      "res1 ['b']\n",
      "res2 ['b']\n",
      "1\n",
      "Time : 0.00034999847412109375\n"
     ]
    }
   ],
   "source": [
    "inputs2 = \"bbbbb\"\n",
    "\n",
    "start = time.time()\n",
    "result = Solution.lengthOfLongestSubstring(inputs2)\n",
    "print(result)\n",
    "\n",
    "print(\"Time :\", time.time() - start)"
   ]
  },
  {
   "cell_type": "code",
   "execution_count": 11,
   "metadata": {
    "scrolled": true
   },
   "outputs": [
    {
     "name": "stdout",
     "output_type": "stream",
     "text": [
      "res1 ['k', 'e', 'w']\n",
      "res2 ['w', 'k', 'e']\n",
      "3\n",
      "Time : 0.0007011890411376953\n"
     ]
    }
   ],
   "source": [
    "inputs3 = \"pwwkew\"\n",
    "\n",
    "start = time.time()\n",
    "result = Solution.lengthOfLongestSubstring(inputs3)\n",
    "print(result)\n",
    "\n",
    "print(\"Time :\", time.time() - start)"
   ]
  },
  {
   "cell_type": "code",
   "execution_count": 12,
   "metadata": {},
   "outputs": [
    {
     "name": "stdout",
     "output_type": "stream",
     "text": [
      "res1 ['v', 'd', 'f']\n",
      "res2 ['v', 'd', 'f']\n",
      "3\n",
      "Time : 0.0003409385681152344\n"
     ]
    }
   ],
   "source": [
    "inputs4 = \"dvdf\"\n",
    "\n",
    "start = time.time()\n",
    "result = Solution.lengthOfLongestSubstring(inputs4)\n",
    "print(result)\n",
    "\n",
    "print(\"Time :\", time.time() - start)\n"
   ]
  }
 ],
 "metadata": {
  "hide_input": false,
  "kernelspec": {
   "display_name": "Python 3",
   "language": "python",
   "name": "python3"
  },
  "language_info": {
   "codemirror_mode": {
    "name": "ipython",
    "version": 3
   },
   "file_extension": ".py",
   "mimetype": "text/x-python",
   "name": "python",
   "nbconvert_exporter": "python",
   "pygments_lexer": "ipython3",
   "version": "3.7.2"
  },
  "varInspector": {
   "cols": {
    "lenName": 16,
    "lenType": 16,
    "lenVar": 40
   },
   "kernels_config": {
    "python": {
     "delete_cmd_postfix": "",
     "delete_cmd_prefix": "del ",
     "library": "var_list.py",
     "varRefreshCmd": "print(var_dic_list())"
    },
    "r": {
     "delete_cmd_postfix": ") ",
     "delete_cmd_prefix": "rm(",
     "library": "var_list.r",
     "varRefreshCmd": "cat(var_dic_list()) "
    }
   },
   "types_to_exclude": [
    "module",
    "function",
    "builtin_function_or_method",
    "instance",
    "_Feature"
   ],
   "window_display": false
  }
 },
 "nbformat": 4,
 "nbformat_minor": 4
}

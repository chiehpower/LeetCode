{
 "cells": [
  {
   "cell_type": "markdown",
   "metadata": {},
   "source": [
    "# Week 1: August 1st - August 7th\n",
    "\n",
    ">All solutions were what I thought by myself.\n",
    "\n",
    "## Detect Capital\n",
    "\n",
    "Given a word, you need to judge whether the usage of capitals in it is right or not.\n",
    "\n",
    "We define the usage of capitals in a word to be right when one of the following cases holds:\n",
    "\n",
    "1. All letters in this word are capitals, like \"USA\".\n",
    "2. All letters in this word are not capitals, like \"leetcode\".\n",
    "3. Only the first letter in this word is capital, like \"Google\".\n",
    "\n",
    "Otherwise, we define that this word doesn't use capitals in a right way.\n",
    "\n",
    "**Example 1:**\n",
    "```\n",
    "Input: \"USA\"\n",
    "Output: True\n",
    "```\n",
    "**Example 2:**\n",
    "```\n",
    "Input: \"FlaG\"\n",
    "Output: False\n",
    "```"
   ]
  },
  {
   "cell_type": "code",
   "execution_count": 1,
   "metadata": {},
   "outputs": [],
   "source": [
    "class Solution:\n",
    "    def detectCapitalUse(self, word):\n",
    "        if word.isalpha() == True:\n",
    "            if word.istitle() == True:\n",
    "                return True\n",
    "            elif word.isupper() == True:\n",
    "                return True\n",
    "            elif word.islower() == True:\n",
    "                return True\n",
    "            else:\n",
    "                return False\n",
    "\n",
    "Solution = Solution()"
   ]
  },
  {
   "cell_type": "code",
   "execution_count": 2,
   "metadata": {},
   "outputs": [
    {
     "name": "stdout",
     "output_type": "stream",
     "text": [
      "True\n"
     ]
    }
   ],
   "source": [
    "inputs = \"USA\"\n",
    "\n",
    "result = Solution.detectCapitalUse(inputs)\n",
    "print(result)"
   ]
  },
  {
   "cell_type": "code",
   "execution_count": 3,
   "metadata": {},
   "outputs": [
    {
     "name": "stdout",
     "output_type": "stream",
     "text": [
      "False\n"
     ]
    }
   ],
   "source": [
    "inputs = \"FlaG\"\n",
    "\n",
    "result = Solution.detectCapitalUse(inputs)\n",
    "print(result)"
   ]
  },
  {
   "cell_type": "code",
   "execution_count": null,
   "metadata": {},
   "outputs": [],
   "source": []
  }
 ],
 "metadata": {
  "hide_input": false,
  "kernelspec": {
   "display_name": "Python 3",
   "language": "python",
   "name": "python3"
  },
  "language_info": {
   "codemirror_mode": {
    "name": "ipython",
    "version": 3
   },
   "file_extension": ".py",
   "mimetype": "text/x-python",
   "name": "python",
   "nbconvert_exporter": "python",
   "pygments_lexer": "ipython3",
   "version": "3.7.2"
  },
  "varInspector": {
   "cols": {
    "lenName": 16,
    "lenType": 16,
    "lenVar": 40
   },
   "kernels_config": {
    "python": {
     "delete_cmd_postfix": "",
     "delete_cmd_prefix": "del ",
     "library": "var_list.py",
     "varRefreshCmd": "print(var_dic_list())"
    },
    "r": {
     "delete_cmd_postfix": ") ",
     "delete_cmd_prefix": "rm(",
     "library": "var_list.r",
     "varRefreshCmd": "cat(var_dic_list()) "
    }
   },
   "types_to_exclude": [
    "module",
    "function",
    "builtin_function_or_method",
    "instance",
    "_Feature"
   ],
   "window_display": false
  }
 },
 "nbformat": 4,
 "nbformat_minor": 4
}

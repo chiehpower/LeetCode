{
 "cells": [
  {
   "cell_type": "code",
   "execution_count": 1,
   "metadata": {},
   "outputs": [],
   "source": [
    "import time\n",
    "\n",
    "class Solution(object):\n",
    "    def findMedianSortedArrays(self, nums1, nums2):\n",
    "        if nums1 or nums2:\n",
    "            summ = nums1 + nums2\n",
    "            summ.sort()\n",
    "            order = len(summ) // 2\n",
    "            if (len(summ) % 2) == 0:\n",
    "                return (summ[order-1] + summ[order])/2\n",
    "            elif (len(summ) % 2) == 1:\n",
    "                return summ[order]\n",
    "        \n",
    "Solution = Solution()"
   ]
  },
  {
   "cell_type": "code",
   "execution_count": 2,
   "metadata": {},
   "outputs": [
    {
     "name": "stdout",
     "output_type": "stream",
     "text": [
      "2\n",
      "Time : 0.0005059242248535156\n"
     ]
    }
   ],
   "source": [
    "inputs1 = [1, 3]\n",
    "inputs2 = [2]\n",
    "\n",
    "start = time.time()\n",
    "result = Solution.findMedianSortedArrays(inputs1, inputs2)\n",
    "print(result)\n",
    "\n",
    "print(\"Time :\", time.time() - start)"
   ]
  },
  {
   "cell_type": "code",
   "execution_count": 3,
   "metadata": {},
   "outputs": [
    {
     "name": "stdout",
     "output_type": "stream",
     "text": [
      "2.5\n",
      "Time : 0.00016379356384277344\n"
     ]
    }
   ],
   "source": [
    "inputs3 = [1, 2]\n",
    "inputs4 = [3, 4]\n",
    "\n",
    "start = time.time()\n",
    "result = Solution.findMedianSortedArrays(inputs3, inputs4)\n",
    "print(result)\n",
    "\n",
    "print(\"Time :\", time.time() - start)"
   ]
  },
  {
   "cell_type": "code",
   "execution_count": 4,
   "metadata": {},
   "outputs": [
    {
     "name": "stdout",
     "output_type": "stream",
     "text": [
      "1.5\n",
      "Time : 0.0005269050598144531\n"
     ]
    }
   ],
   "source": [
    "inputs3 = [1, 2]\n",
    "inputs4 = []\n",
    "\n",
    "start = time.time()\n",
    "result = Solution.findMedianSortedArrays(inputs3, inputs4)\n",
    "print(result)\n",
    "\n",
    "print(\"Time :\", time.time() - start)"
   ]
  },
  {
   "cell_type": "code",
   "execution_count": 5,
   "metadata": {},
   "outputs": [
    {
     "name": "stdout",
     "output_type": "stream",
     "text": [
      "5.0\n",
      "Time : 0.00035381317138671875\n"
     ]
    }
   ],
   "source": [
    "inputs5 = [6, 8, 1, 2]\n",
    "inputs6 = [3, 6, 6, 9, 4, 2]\n",
    "\n",
    "start = time.time()\n",
    "result = Solution.findMedianSortedArrays(inputs5, inputs6)\n",
    "print(result)\n",
    "\n",
    "print(\"Time :\", time.time() - start)"
   ]
  },
  {
   "cell_type": "code",
   "execution_count": null,
   "metadata": {},
   "outputs": [],
   "source": []
  }
 ],
 "metadata": {
  "hide_input": false,
  "kernelspec": {
   "display_name": "Python 3",
   "language": "python",
   "name": "python3"
  },
  "language_info": {
   "codemirror_mode": {
    "name": "ipython",
    "version": 3
   },
   "file_extension": ".py",
   "mimetype": "text/x-python",
   "name": "python",
   "nbconvert_exporter": "python",
   "pygments_lexer": "ipython3",
   "version": "3.7.2"
  },
  "varInspector": {
   "cols": {
    "lenName": 16,
    "lenType": 16,
    "lenVar": 40
   },
   "kernels_config": {
    "python": {
     "delete_cmd_postfix": "",
     "delete_cmd_prefix": "del ",
     "library": "var_list.py",
     "varRefreshCmd": "print(var_dic_list())"
    },
    "r": {
     "delete_cmd_postfix": ") ",
     "delete_cmd_prefix": "rm(",
     "library": "var_list.r",
     "varRefreshCmd": "cat(var_dic_list()) "
    }
   },
   "types_to_exclude": [
    "module",
    "function",
    "builtin_function_or_method",
    "instance",
    "_Feature"
   ],
   "window_display": false
  }
 },
 "nbformat": 4,
 "nbformat_minor": 4
}
